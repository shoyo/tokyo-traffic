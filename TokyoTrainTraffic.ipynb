{
 "cells": [
  {
   "cell_type": "code",
   "execution_count": 1,
   "metadata": {},
   "outputs": [],
   "source": [
    "import pandas as pd\n",
    "from pandas.plotting import table\n",
    "import matplotlib.pyplot as plt\n",
    "import matplotlib.style as style\n",
    "# style.use('seaborn-poster')\n",
    "style.use('ggplot')\n",
    "import numpy as np\n",
    "import requests"
   ]
  },
  {
   "cell_type": "code",
   "execution_count": 2,
   "metadata": {},
   "outputs": [],
   "source": [
    "def save_fig(fname):\n",
    "    plt.tight_layout()\n",
    "    plt.savefig(fname)"
   ]
  },
  {
   "cell_type": "markdown",
   "metadata": {},
   "source": [
    "## Querying the API"
   ]
  },
  {
   "cell_type": "code",
   "execution_count": 3,
   "metadata": {},
   "outputs": [],
   "source": [
    "endpoint = 'https://api-tokyochallenge.odpt.org/api/v4/'\n",
    "rdf_type = 'PassengerSurvey'\n",
    "\n",
    "with open('./api_key.txt', 'r') as f:\n",
    "    api_key = f.readline().strip()\n",
    "    \n",
    "url = f'{endpoint}odpt:{rdf_type}.json?&acl:consumerKey={api_key}'\n",
    "res = requests.get(url)\n",
    "df = pd.read_json(res.text)"
   ]
  },
  {
   "cell_type": "code",
   "execution_count": 4,
   "metadata": {
    "scrolled": true
   },
   "outputs": [
    {
     "data": {
      "text/html": [
       "<div>\n",
       "<style scoped>\n",
       "    .dataframe tbody tr th:only-of-type {\n",
       "        vertical-align: middle;\n",
       "    }\n",
       "\n",
       "    .dataframe tbody tr th {\n",
       "        vertical-align: top;\n",
       "    }\n",
       "\n",
       "    .dataframe thead th {\n",
       "        text-align: right;\n",
       "    }\n",
       "</style>\n",
       "<table border=\"1\" class=\"dataframe\">\n",
       "  <thead>\n",
       "    <tr style=\"text-align: right;\">\n",
       "      <th></th>\n",
       "      <th>@context</th>\n",
       "      <th>@id</th>\n",
       "      <th>@type</th>\n",
       "      <th>dc:date</th>\n",
       "      <th>odpt:includeAlighting</th>\n",
       "      <th>odpt:operator</th>\n",
       "      <th>odpt:passengerSurveyObject</th>\n",
       "      <th>odpt:railway</th>\n",
       "      <th>odpt:station</th>\n",
       "      <th>owl:sameAs</th>\n",
       "    </tr>\n",
       "  </thead>\n",
       "  <tbody>\n",
       "    <tr>\n",
       "      <th>0</th>\n",
       "      <td>http://vocab.odpt.org/context_odpt.jsonld</td>\n",
       "      <td>urn:ucode:_00001C000000000000010000032095F0</td>\n",
       "      <td>odpt:PassengerSurvey</td>\n",
       "      <td>2019-08-09T10:00:00+09:00</td>\n",
       "      <td>False</td>\n",
       "      <td>odpt.Operator:TWR</td>\n",
       "      <td>[{'odpt:surveyYear': 2015, 'odpt:passengerJour...</td>\n",
       "      <td>[odpt.Railway:TWR.Rinkai]</td>\n",
       "      <td>[odpt.Station:TWR.Rinkai.KokusaiTenjijo]</td>\n",
       "      <td>odpt.PassengerSurvey:TWR.KokusaiTenjijo</td>\n",
       "    </tr>\n",
       "    <tr>\n",
       "      <th>1</th>\n",
       "      <td>http://vocab.odpt.org/context_odpt.jsonld</td>\n",
       "      <td>urn:ucode:_00001C000000000000010000032095F1</td>\n",
       "      <td>odpt:PassengerSurvey</td>\n",
       "      <td>2019-08-09T10:00:00+09:00</td>\n",
       "      <td>False</td>\n",
       "      <td>odpt.Operator:TWR</td>\n",
       "      <td>[{'odpt:surveyYear': 2015, 'odpt:passengerJour...</td>\n",
       "      <td>[odpt.Railway:TWR.Rinkai]</td>\n",
       "      <td>[odpt.Station:TWR.Rinkai.Oimachi]</td>\n",
       "      <td>odpt.PassengerSurvey:TWR.Oimachi</td>\n",
       "    </tr>\n",
       "    <tr>\n",
       "      <th>2</th>\n",
       "      <td>http://vocab.odpt.org/context_odpt.jsonld</td>\n",
       "      <td>urn:ucode:_00001C000000000000010000032095F2</td>\n",
       "      <td>odpt:PassengerSurvey</td>\n",
       "      <td>2019-08-09T10:00:00+09:00</td>\n",
       "      <td>False</td>\n",
       "      <td>odpt.Operator:TWR</td>\n",
       "      <td>[{'odpt:surveyYear': 2015, 'odpt:passengerJour...</td>\n",
       "      <td>[odpt.Railway:TWR.Rinkai]</td>\n",
       "      <td>[odpt.Station:TWR.Rinkai.Osaki]</td>\n",
       "      <td>odpt.PassengerSurvey:TWR.Osaki</td>\n",
       "    </tr>\n",
       "    <tr>\n",
       "      <th>3</th>\n",
       "      <td>http://vocab.odpt.org/context_odpt.jsonld</td>\n",
       "      <td>urn:ucode:_00001C000000000000010000032095F3</td>\n",
       "      <td>odpt:PassengerSurvey</td>\n",
       "      <td>2019-08-09T10:00:00+09:00</td>\n",
       "      <td>False</td>\n",
       "      <td>odpt.Operator:TWR</td>\n",
       "      <td>[{'odpt:surveyYear': 2015, 'odpt:passengerJour...</td>\n",
       "      <td>[odpt.Railway:TWR.Rinkai]</td>\n",
       "      <td>[odpt.Station:TWR.Rinkai.ShinKiba]</td>\n",
       "      <td>odpt.PassengerSurvey:TWR.ShinKiba</td>\n",
       "    </tr>\n",
       "    <tr>\n",
       "      <th>4</th>\n",
       "      <td>http://vocab.odpt.org/context_odpt.jsonld</td>\n",
       "      <td>urn:ucode:_00001C000000000000010000032095F4</td>\n",
       "      <td>odpt:PassengerSurvey</td>\n",
       "      <td>2019-08-09T10:00:00+09:00</td>\n",
       "      <td>False</td>\n",
       "      <td>odpt.Operator:TWR</td>\n",
       "      <td>[{'odpt:surveyYear': 2015, 'odpt:passengerJour...</td>\n",
       "      <td>[odpt.Railway:TWR.Rinkai]</td>\n",
       "      <td>[odpt.Station:TWR.Rinkai.ShinagawaSeaside]</td>\n",
       "      <td>odpt.PassengerSurvey:TWR.ShinagawaSeaside</td>\n",
       "    </tr>\n",
       "  </tbody>\n",
       "</table>\n",
       "</div>"
      ],
      "text/plain": [
       "                                    @context  \\\n",
       "0  http://vocab.odpt.org/context_odpt.jsonld   \n",
       "1  http://vocab.odpt.org/context_odpt.jsonld   \n",
       "2  http://vocab.odpt.org/context_odpt.jsonld   \n",
       "3  http://vocab.odpt.org/context_odpt.jsonld   \n",
       "4  http://vocab.odpt.org/context_odpt.jsonld   \n",
       "\n",
       "                                           @id                 @type  \\\n",
       "0  urn:ucode:_00001C000000000000010000032095F0  odpt:PassengerSurvey   \n",
       "1  urn:ucode:_00001C000000000000010000032095F1  odpt:PassengerSurvey   \n",
       "2  urn:ucode:_00001C000000000000010000032095F2  odpt:PassengerSurvey   \n",
       "3  urn:ucode:_00001C000000000000010000032095F3  odpt:PassengerSurvey   \n",
       "4  urn:ucode:_00001C000000000000010000032095F4  odpt:PassengerSurvey   \n",
       "\n",
       "                     dc:date  odpt:includeAlighting      odpt:operator  \\\n",
       "0  2019-08-09T10:00:00+09:00                  False  odpt.Operator:TWR   \n",
       "1  2019-08-09T10:00:00+09:00                  False  odpt.Operator:TWR   \n",
       "2  2019-08-09T10:00:00+09:00                  False  odpt.Operator:TWR   \n",
       "3  2019-08-09T10:00:00+09:00                  False  odpt.Operator:TWR   \n",
       "4  2019-08-09T10:00:00+09:00                  False  odpt.Operator:TWR   \n",
       "\n",
       "                          odpt:passengerSurveyObject  \\\n",
       "0  [{'odpt:surveyYear': 2015, 'odpt:passengerJour...   \n",
       "1  [{'odpt:surveyYear': 2015, 'odpt:passengerJour...   \n",
       "2  [{'odpt:surveyYear': 2015, 'odpt:passengerJour...   \n",
       "3  [{'odpt:surveyYear': 2015, 'odpt:passengerJour...   \n",
       "4  [{'odpt:surveyYear': 2015, 'odpt:passengerJour...   \n",
       "\n",
       "                odpt:railway                                odpt:station  \\\n",
       "0  [odpt.Railway:TWR.Rinkai]    [odpt.Station:TWR.Rinkai.KokusaiTenjijo]   \n",
       "1  [odpt.Railway:TWR.Rinkai]           [odpt.Station:TWR.Rinkai.Oimachi]   \n",
       "2  [odpt.Railway:TWR.Rinkai]             [odpt.Station:TWR.Rinkai.Osaki]   \n",
       "3  [odpt.Railway:TWR.Rinkai]          [odpt.Station:TWR.Rinkai.ShinKiba]   \n",
       "4  [odpt.Railway:TWR.Rinkai]  [odpt.Station:TWR.Rinkai.ShinagawaSeaside]   \n",
       "\n",
       "                                  owl:sameAs  \n",
       "0    odpt.PassengerSurvey:TWR.KokusaiTenjijo  \n",
       "1           odpt.PassengerSurvey:TWR.Oimachi  \n",
       "2             odpt.PassengerSurvey:TWR.Osaki  \n",
       "3          odpt.PassengerSurvey:TWR.ShinKiba  \n",
       "4  odpt.PassengerSurvey:TWR.ShinagawaSeaside  "
      ]
     },
     "execution_count": 4,
     "metadata": {},
     "output_type": "execute_result"
    }
   ],
   "source": [
    "df.head()"
   ]
  },
  {
   "cell_type": "code",
   "execution_count": 5,
   "metadata": {},
   "outputs": [
    {
     "name": "stdout",
     "output_type": "stream",
     "text": [
      "<class 'pandas.core.frame.DataFrame'>\n",
      "RangeIndex: 1571 entries, 0 to 1570\n",
      "Data columns (total 10 columns):\n",
      "@context                      1571 non-null object\n",
      "@id                           1571 non-null object\n",
      "@type                         1571 non-null object\n",
      "dc:date                       1571 non-null object\n",
      "odpt:includeAlighting         1571 non-null bool\n",
      "odpt:operator                 1571 non-null object\n",
      "odpt:passengerSurveyObject    1571 non-null object\n",
      "odpt:railway                  1571 non-null object\n",
      "odpt:station                  1571 non-null object\n",
      "owl:sameAs                    1571 non-null object\n",
      "dtypes: bool(1), object(9)\n",
      "memory usage: 112.1+ KB\n"
     ]
    }
   ],
   "source": [
    "df.info()"
   ]
  },
  {
   "cell_type": "markdown",
   "metadata": {},
   "source": [
    "## Preprocessing and utility functions"
   ]
  },
  {
   "cell_type": "code",
   "execution_count": 6,
   "metadata": {},
   "outputs": [],
   "source": [
    "# Utility functions\n",
    "from_year = lambda d, year: d['odpt:surveyYear'] == year\n",
    "contains_year = lambda arr, year: any([from_year(d, year) for d in arr])\n",
    "psgr_cnt_year = lambda arr, year: [d['odpt:passengerJourneys'] for d in arr if from_year(d, year)][0]\n",
    "traffic_year = lambda year: [psgr_cnt_year(row['odpt:passengerSurveyObject'], year)\n",
    "                             if contains_year(row['odpt:passengerSurveyObject'], year)\n",
    "                             else None\n",
    "                             for _, row in df.iterrows()]\n",
    "\n",
    "\n",
    "## Preprocessing\n",
    "\n",
    "# Halve passengerJourneys count for rows where includeAlighting == True\n",
    "for idx, _ in df.iterrows():\n",
    "    if df.at[idx, 'odpt:includeAlighting']:\n",
    "        for d in df.at[idx, 'odpt:passengerSurveyObject']:\n",
    "            d['odpt:passengerJourneys'] //= 2\n",
    "\n",
    "# Drop unnecessary columns\n",
    "df.drop(columns=['@context',\n",
    "                 '@id',\n",
    "                 '@type',\n",
    "                 'dc:date',\n",
    "                 'odpt:includeAlighting',\n",
    "                 'odpt:operator',\n",
    "                 'odpt:station'], inplace=True)\n",
    "\n",
    "# Expand railways list into separate rows\n",
    "df = df['odpt:railway'] \\\n",
    "         .apply(pd.Series) \\\n",
    "         .merge(df, right_index=True, left_index=True) \\\n",
    "         .drop(['odpt:railway'], axis=1) \\\n",
    "         .melt(id_vars=['odpt:passengerSurveyObject', 'owl:sameAs'], value_name='odpt:railway') \\\n",
    "         .drop(\"variable\", axis=1) \\\n",
    "         .dropna()\n",
    "\n",
    "# Format railway and station names\n",
    "for idx, _ in df.iterrows():\n",
    "    df.at[idx, 'odpt:railway'] = df.at[idx, 'odpt:railway'].split('.')[-1]\n",
    "    df.at[idx, 'owl:sameAs'] = df.at[idx, 'owl:sameAs'].split('.')[-1]\n",
    "\n",
    "# Add columns for traffic data from each year\n",
    "years = [2013, 2014, 2015, 2016, 2017, 2018]\n",
    "for year in years:\n",
    "    df[f'traffic_{year}'] = traffic_year(year)\n",
    "    df[f'traffic_prop_{year}'] = df[f'traffic_{year}'] / df.sum()[f'traffic_{year}']"
   ]
  },
  {
   "cell_type": "code",
   "execution_count": 7,
   "metadata": {},
   "outputs": [
    {
     "data": {
      "text/html": [
       "<div>\n",
       "<style scoped>\n",
       "    .dataframe tbody tr th:only-of-type {\n",
       "        vertical-align: middle;\n",
       "    }\n",
       "\n",
       "    .dataframe tbody tr th {\n",
       "        vertical-align: top;\n",
       "    }\n",
       "\n",
       "    .dataframe thead th {\n",
       "        text-align: right;\n",
       "    }\n",
       "</style>\n",
       "<table border=\"1\" class=\"dataframe\">\n",
       "  <thead>\n",
       "    <tr style=\"text-align: right;\">\n",
       "      <th></th>\n",
       "      <th>odpt:passengerSurveyObject</th>\n",
       "      <th>owl:sameAs</th>\n",
       "      <th>odpt:railway</th>\n",
       "      <th>traffic_2013</th>\n",
       "      <th>traffic_prop_2013</th>\n",
       "      <th>traffic_2014</th>\n",
       "      <th>traffic_prop_2014</th>\n",
       "      <th>traffic_2015</th>\n",
       "      <th>traffic_prop_2015</th>\n",
       "      <th>traffic_2016</th>\n",
       "      <th>traffic_prop_2016</th>\n",
       "      <th>traffic_2017</th>\n",
       "      <th>traffic_prop_2017</th>\n",
       "      <th>traffic_2018</th>\n",
       "      <th>traffic_prop_2018</th>\n",
       "    </tr>\n",
       "  </thead>\n",
       "  <tbody>\n",
       "    <tr>\n",
       "      <th>0</th>\n",
       "      <td>[{'odpt:surveyYear': 2015, 'odpt:passengerJour...</td>\n",
       "      <td>KokusaiTenjijo</td>\n",
       "      <td>Rinkai</td>\n",
       "      <td>NaN</td>\n",
       "      <td>NaN</td>\n",
       "      <td>NaN</td>\n",
       "      <td>NaN</td>\n",
       "      <td>35679.0</td>\n",
       "      <td>0.000629</td>\n",
       "      <td>34238.0</td>\n",
       "      <td>0.000522</td>\n",
       "      <td>34494.0</td>\n",
       "      <td>0.000482</td>\n",
       "      <td>33593.0</td>\n",
       "      <td>0.000490</td>\n",
       "    </tr>\n",
       "    <tr>\n",
       "      <th>1</th>\n",
       "      <td>[{'odpt:surveyYear': 2015, 'odpt:passengerJour...</td>\n",
       "      <td>Oimachi</td>\n",
       "      <td>Rinkai</td>\n",
       "      <td>NaN</td>\n",
       "      <td>NaN</td>\n",
       "      <td>NaN</td>\n",
       "      <td>NaN</td>\n",
       "      <td>40645.0</td>\n",
       "      <td>0.000716</td>\n",
       "      <td>41855.0</td>\n",
       "      <td>0.000638</td>\n",
       "      <td>42961.0</td>\n",
       "      <td>0.000601</td>\n",
       "      <td>44308.0</td>\n",
       "      <td>0.000646</td>\n",
       "    </tr>\n",
       "    <tr>\n",
       "      <th>2</th>\n",
       "      <td>[{'odpt:surveyYear': 2015, 'odpt:passengerJour...</td>\n",
       "      <td>Osaki</td>\n",
       "      <td>Rinkai</td>\n",
       "      <td>NaN</td>\n",
       "      <td>NaN</td>\n",
       "      <td>NaN</td>\n",
       "      <td>NaN</td>\n",
       "      <td>59203.0</td>\n",
       "      <td>0.001043</td>\n",
       "      <td>61340.0</td>\n",
       "      <td>0.000935</td>\n",
       "      <td>63766.0</td>\n",
       "      <td>0.000892</td>\n",
       "      <td>65415.0</td>\n",
       "      <td>0.000954</td>\n",
       "    </tr>\n",
       "    <tr>\n",
       "      <th>3</th>\n",
       "      <td>[{'odpt:surveyYear': 2015, 'odpt:passengerJour...</td>\n",
       "      <td>ShinKiba</td>\n",
       "      <td>Rinkai</td>\n",
       "      <td>NaN</td>\n",
       "      <td>NaN</td>\n",
       "      <td>NaN</td>\n",
       "      <td>NaN</td>\n",
       "      <td>31651.0</td>\n",
       "      <td>0.000558</td>\n",
       "      <td>32062.0</td>\n",
       "      <td>0.000488</td>\n",
       "      <td>33268.0</td>\n",
       "      <td>0.000465</td>\n",
       "      <td>34148.0</td>\n",
       "      <td>0.000498</td>\n",
       "    </tr>\n",
       "    <tr>\n",
       "      <th>4</th>\n",
       "      <td>[{'odpt:surveyYear': 2015, 'odpt:passengerJour...</td>\n",
       "      <td>ShinagawaSeaside</td>\n",
       "      <td>Rinkai</td>\n",
       "      <td>NaN</td>\n",
       "      <td>NaN</td>\n",
       "      <td>NaN</td>\n",
       "      <td>NaN</td>\n",
       "      <td>19754.0</td>\n",
       "      <td>0.000348</td>\n",
       "      <td>22045.0</td>\n",
       "      <td>0.000336</td>\n",
       "      <td>23332.0</td>\n",
       "      <td>0.000326</td>\n",
       "      <td>23686.0</td>\n",
       "      <td>0.000345</td>\n",
       "    </tr>\n",
       "  </tbody>\n",
       "</table>\n",
       "</div>"
      ],
      "text/plain": [
       "                          odpt:passengerSurveyObject        owl:sameAs  \\\n",
       "0  [{'odpt:surveyYear': 2015, 'odpt:passengerJour...    KokusaiTenjijo   \n",
       "1  [{'odpt:surveyYear': 2015, 'odpt:passengerJour...           Oimachi   \n",
       "2  [{'odpt:surveyYear': 2015, 'odpt:passengerJour...             Osaki   \n",
       "3  [{'odpt:surveyYear': 2015, 'odpt:passengerJour...          ShinKiba   \n",
       "4  [{'odpt:surveyYear': 2015, 'odpt:passengerJour...  ShinagawaSeaside   \n",
       "\n",
       "  odpt:railway  traffic_2013  traffic_prop_2013  traffic_2014  \\\n",
       "0       Rinkai           NaN                NaN           NaN   \n",
       "1       Rinkai           NaN                NaN           NaN   \n",
       "2       Rinkai           NaN                NaN           NaN   \n",
       "3       Rinkai           NaN                NaN           NaN   \n",
       "4       Rinkai           NaN                NaN           NaN   \n",
       "\n",
       "   traffic_prop_2014  traffic_2015  traffic_prop_2015  traffic_2016  \\\n",
       "0                NaN       35679.0           0.000629       34238.0   \n",
       "1                NaN       40645.0           0.000716       41855.0   \n",
       "2                NaN       59203.0           0.001043       61340.0   \n",
       "3                NaN       31651.0           0.000558       32062.0   \n",
       "4                NaN       19754.0           0.000348       22045.0   \n",
       "\n",
       "   traffic_prop_2016  traffic_2017  traffic_prop_2017  traffic_2018  \\\n",
       "0           0.000522       34494.0           0.000482       33593.0   \n",
       "1           0.000638       42961.0           0.000601       44308.0   \n",
       "2           0.000935       63766.0           0.000892       65415.0   \n",
       "3           0.000488       33268.0           0.000465       34148.0   \n",
       "4           0.000336       23332.0           0.000326       23686.0   \n",
       "\n",
       "   traffic_prop_2018  \n",
       "0           0.000490  \n",
       "1           0.000646  \n",
       "2           0.000954  \n",
       "3           0.000498  \n",
       "4           0.000345  "
      ]
     },
     "execution_count": 7,
     "metadata": {},
     "output_type": "execute_result"
    }
   ],
   "source": [
    "df.head()"
   ]
  },
  {
   "cell_type": "markdown",
   "metadata": {},
   "source": [
    "## Which stations had the most traffic in 2018? What was their percentage share?"
   ]
  },
  {
   "cell_type": "code",
   "execution_count": 8,
   "metadata": {},
   "outputs": [
    {
     "data": {
      "text/html": [
       "<div>\n",
       "<style scoped>\n",
       "    .dataframe tbody tr th:only-of-type {\n",
       "        vertical-align: middle;\n",
       "    }\n",
       "\n",
       "    .dataframe tbody tr th {\n",
       "        vertical-align: top;\n",
       "    }\n",
       "\n",
       "    .dataframe thead th {\n",
       "        text-align: right;\n",
       "    }\n",
       "</style>\n",
       "<table border=\"1\" class=\"dataframe\">\n",
       "  <thead>\n",
       "    <tr style=\"text-align: right;\">\n",
       "      <th></th>\n",
       "      <th>traffic_2018</th>\n",
       "      <th>traffic_prop_2018</th>\n",
       "    </tr>\n",
       "    <tr>\n",
       "      <th>owl:sameAs</th>\n",
       "      <th></th>\n",
       "      <th></th>\n",
       "    </tr>\n",
       "  </thead>\n",
       "  <tbody>\n",
       "    <tr>\n",
       "      <th>Shinjuku</th>\n",
       "      <td>5124685.0</td>\n",
       "      <td>0.074723</td>\n",
       "    </tr>\n",
       "    <tr>\n",
       "      <th>Tokyo</th>\n",
       "      <td>4780787.0</td>\n",
       "      <td>0.069708</td>\n",
       "    </tr>\n",
       "    <tr>\n",
       "      <th>Shibuya</th>\n",
       "      <td>3677302.0</td>\n",
       "      <td>0.053619</td>\n",
       "    </tr>\n",
       "    <tr>\n",
       "      <th>Ikebukuro</th>\n",
       "      <td>3050076.0</td>\n",
       "      <td>0.044473</td>\n",
       "    </tr>\n",
       "    <tr>\n",
       "      <th>Yokohama</th>\n",
       "      <td>2174339.0</td>\n",
       "      <td>0.031704</td>\n",
       "    </tr>\n",
       "    <tr>\n",
       "      <th>Shinagawa</th>\n",
       "      <td>1989209.0</td>\n",
       "      <td>0.029005</td>\n",
       "    </tr>\n",
       "    <tr>\n",
       "      <th>Shimbashi</th>\n",
       "      <td>1536694.0</td>\n",
       "      <td>0.022406</td>\n",
       "    </tr>\n",
       "    <tr>\n",
       "      <th>Omiya</th>\n",
       "      <td>1359421.0</td>\n",
       "      <td>0.019822</td>\n",
       "    </tr>\n",
       "    <tr>\n",
       "      <th>Ueno</th>\n",
       "      <td>1156670.0</td>\n",
       "      <td>0.016865</td>\n",
       "    </tr>\n",
       "    <tr>\n",
       "      <th>Akihabara</th>\n",
       "      <td>820661.0</td>\n",
       "      <td>0.011966</td>\n",
       "    </tr>\n",
       "  </tbody>\n",
       "</table>\n",
       "</div>"
      ],
      "text/plain": [
       "            traffic_2018  traffic_prop_2018\n",
       "owl:sameAs                                 \n",
       "Shinjuku       5124685.0           0.074723\n",
       "Tokyo          4780787.0           0.069708\n",
       "Shibuya        3677302.0           0.053619\n",
       "Ikebukuro      3050076.0           0.044473\n",
       "Yokohama       2174339.0           0.031704\n",
       "Shinagawa      1989209.0           0.029005\n",
       "Shimbashi      1536694.0           0.022406\n",
       "Omiya          1359421.0           0.019822\n",
       "Ueno           1156670.0           0.016865\n",
       "Akihabara       820661.0           0.011966"
      ]
     },
     "execution_count": 8,
     "metadata": {},
     "output_type": "execute_result"
    }
   ],
   "source": [
    "station_by_traffic = df.filter(['owl:sameAs', 'traffic_2018', 'traffic_prop_2018']) \\\n",
    "                       .groupby('owl:sameAs') \\\n",
    "                       .sum() \\\n",
    "                       .sort_values(by='traffic_2018', ascending=False)\n",
    "\n",
    "# Top 10 busiest Tokyo train stations in 2018\n",
    "station_by_traffic.head(10)"
   ]
  },
  {
   "cell_type": "code",
   "execution_count": 9,
   "metadata": {},
   "outputs": [
    {
     "data": {
      "image/png": "[encoded data removed]",
      "text/plain": [
       "<Figure size 720x360 with 1 Axes>"
      ]
     },
     "metadata": {},
     "output_type": "display_data"
    }
   ],
   "source": [
    "fig, ax = plt.subplots(figsize=(10, 5))\n",
    "x = list(range(1, station_by_traffic.shape[0]))\n",
    "cdf = [station_by_traffic.head(i).sum()['traffic_prop_2018'] for i in x]\n",
    "plt.plot(x, [0.5 for _ in x], linestyle=':')\n",
    "plt.plot(x, cdf)\n",
    "plt.xlabel('Station count (in order of busiest)')\n",
    "plt.ylabel('Proportion of total traffic')\n",
    "save_fig('cdf_station.png')"
   ]
  },
  {
   "cell_type": "code",
   "execution_count": 10,
   "metadata": {},
   "outputs": [
    {
     "data": {
      "text/plain": [
       "traffic_2018         3.433902e+07\n",
       "traffic_prop_2018    5.006961e-01\n",
       "dtype: float64"
      ]
     },
     "execution_count": 10,
     "metadata": {},
     "output_type": "execute_result"
    }
   ],
   "source": [
    "station_by_traffic.head(27).sum()"
   ]
  },
  {
   "cell_type": "code",
   "execution_count": 11,
   "metadata": {},
   "outputs": [
    {
     "data": {
      "image/png": "[encoded data removed]",
      "text/plain": [
       "<Figure size 720x360 with 1 Axes>"
      ]
     },
     "metadata": {},
     "output_type": "display_data"
    }
   ],
   "source": [
    "fig, ax = plt.subplots(figsize=(10, 5))\n",
    "station_by_traffic.filter(['owl:sameAs', 'traffic_2018']).head(1000).plot(logy=True, legend=False, ax=ax)\n",
    "plt.xlabel('Train station')\n",
    "plt.ylabel('Average daily passenger count')\n",
    "save_fig('dist_station.png')"
   ]
  },
  {
   "cell_type": "markdown",
   "metadata": {},
   "source": [
    "## Which railways had the most traffic in 2018? What was their percentage share?"
   ]
  },
  {
   "cell_type": "code",
   "execution_count": 12,
   "metadata": {},
   "outputs": [
    {
     "data": {
      "text/html": [
       "<div>\n",
       "<style scoped>\n",
       "    .dataframe tbody tr th:only-of-type {\n",
       "        vertical-align: middle;\n",
       "    }\n",
       "\n",
       "    .dataframe tbody tr th {\n",
       "        vertical-align: top;\n",
       "    }\n",
       "\n",
       "    .dataframe thead th {\n",
       "        text-align: right;\n",
       "    }\n",
       "</style>\n",
       "<table border=\"1\" class=\"dataframe\">\n",
       "  <thead>\n",
       "    <tr style=\"text-align: right;\">\n",
       "      <th></th>\n",
       "      <th>traffic_2018</th>\n",
       "      <th>traffic_prop_2018</th>\n",
       "    </tr>\n",
       "    <tr>\n",
       "      <th>odpt:railway</th>\n",
       "      <th></th>\n",
       "      <th></th>\n",
       "    </tr>\n",
       "  </thead>\n",
       "  <tbody>\n",
       "    <tr>\n",
       "      <th>Yamanote</th>\n",
       "      <td>5468536.0</td>\n",
       "      <td>0.079737</td>\n",
       "    </tr>\n",
       "    <tr>\n",
       "      <th>KeihinTohokuNegishi</th>\n",
       "      <td>5036356.0</td>\n",
       "      <td>0.073435</td>\n",
       "    </tr>\n",
       "    <tr>\n",
       "      <th>ChuoSobuLocal</th>\n",
       "      <td>3531223.0</td>\n",
       "      <td>0.051489</td>\n",
       "    </tr>\n",
       "    <tr>\n",
       "      <th>ShonanShinjuku</th>\n",
       "      <td>3404359.0</td>\n",
       "      <td>0.049639</td>\n",
       "    </tr>\n",
       "    <tr>\n",
       "      <th>ChuoRapid</th>\n",
       "      <td>2932418.0</td>\n",
       "      <td>0.042757</td>\n",
       "    </tr>\n",
       "    <tr>\n",
       "      <th>SaikyoKawagoe</th>\n",
       "      <td>2787835.0</td>\n",
       "      <td>0.040649</td>\n",
       "    </tr>\n",
       "    <tr>\n",
       "      <th>Tokaido</th>\n",
       "      <td>2366691.0</td>\n",
       "      <td>0.034509</td>\n",
       "    </tr>\n",
       "    <tr>\n",
       "      <th>Yokosuka</th>\n",
       "      <td>2149195.0</td>\n",
       "      <td>0.031337</td>\n",
       "    </tr>\n",
       "    <tr>\n",
       "      <th>JobanRapid</th>\n",
       "      <td>1990355.0</td>\n",
       "      <td>0.029021</td>\n",
       "    </tr>\n",
       "    <tr>\n",
       "      <th>Marunouchi</th>\n",
       "      <td>1722237.0</td>\n",
       "      <td>0.025112</td>\n",
       "    </tr>\n",
       "  </tbody>\n",
       "</table>\n",
       "</div>"
      ],
      "text/plain": [
       "                     traffic_2018  traffic_prop_2018\n",
       "odpt:railway                                        \n",
       "Yamanote                5468536.0           0.079737\n",
       "KeihinTohokuNegishi     5036356.0           0.073435\n",
       "ChuoSobuLocal           3531223.0           0.051489\n",
       "ShonanShinjuku          3404359.0           0.049639\n",
       "ChuoRapid               2932418.0           0.042757\n",
       "SaikyoKawagoe           2787835.0           0.040649\n",
       "Tokaido                 2366691.0           0.034509\n",
       "Yokosuka                2149195.0           0.031337\n",
       "JobanRapid              1990355.0           0.029021\n",
       "Marunouchi              1722237.0           0.025112"
      ]
     },
     "execution_count": 12,
     "metadata": {},
     "output_type": "execute_result"
    }
   ],
   "source": [
    "railway_by_traffic = df.filter(['odpt:railway', 'traffic_2018', 'traffic_prop_2018']) \\\n",
    "                       .groupby('odpt:railway') \\\n",
    "                       .sum() \\\n",
    "                       .sort_values(by='traffic_2018', ascending=False)\n",
    "\n",
    "# Top 10 busiest Tokyo train lines in 2018\n",
    "railway_by_traffic.head(10)"
   ]
  },
  {
   "cell_type": "code",
   "execution_count": 13,
   "metadata": {},
   "outputs": [
    {
     "data": {
      "image/png": "[encoded data removed]",
      "text/plain": [
       "<Figure size 720x360 with 1 Axes>"
      ]
     },
     "metadata": {},
     "output_type": "display_data"
    }
   ],
   "source": [
    "fig, ax = plt.subplots(figsize=(10, 5))\n",
    "x = list(range(1, railway_by_traffic.shape[0]))\n",
    "cdf = [railway_by_traffic.head(i).sum()['traffic_prop_2018'] for i in x]\n",
    "plt.plot(x, [0.5 for _ in x], linestyle=':')\n",
    "plt.plot(x, cdf)\n",
    "plt.xlabel('Railway count (in order of busiest)')\n",
    "plt.ylabel('Proportion of total traffic')\n",
    "save_fig('cdf_railway.png')"
   ]
  },
  {
   "cell_type": "code",
   "execution_count": 14,
   "metadata": {},
   "outputs": [
    {
     "data": {
      "text/plain": [
       "traffic_2018         3.478819e+07\n",
       "traffic_prop_2018    5.072454e-01\n",
       "dtype: float64"
      ]
     },
     "execution_count": 14,
     "metadata": {},
     "output_type": "execute_result"
    }
   ],
   "source": [
    "railway_by_traffic.head(12).sum()"
   ]
  },
  {
   "cell_type": "code",
   "execution_count": 15,
   "metadata": {},
   "outputs": [
    {
     "data": {
      "image/png": "[encoded data removed]",
      "text/plain": [
       "<Figure size 720x360 with 1 Axes>"
      ]
     },
     "metadata": {},
     "output_type": "display_data"
    }
   ],
   "source": [
    "fig, ax = plt.subplots(figsize=(10, 5))\n",
    "railway_by_traffic.filter(['odpt:railway', 'traffic_2018']).head(100).plot(logy=True, legend=False, ax=ax)\n",
    "plt.xlabel('Train line')\n",
    "plt.ylabel('Average daily passenger count')\n",
    "save_fig('dist_railway.png')"
   ]
  },
  {
   "cell_type": "markdown",
   "metadata": {},
   "source": [
    "## What is the mean, median, standard deviation for traffic for all Japanese railway stations in 2018?"
   ]
  },
  {
   "cell_type": "code",
   "execution_count": 16,
   "metadata": {},
   "outputs": [
    {
     "data": {
      "text/html": [
       "<div>\n",
       "<style scoped>\n",
       "    .dataframe tbody tr th:only-of-type {\n",
       "        vertical-align: middle;\n",
       "    }\n",
       "\n",
       "    .dataframe tbody tr th {\n",
       "        vertical-align: top;\n",
       "    }\n",
       "\n",
       "    .dataframe thead th {\n",
       "        text-align: right;\n",
       "    }\n",
       "</style>\n",
       "<table border=\"1\" class=\"dataframe\">\n",
       "  <thead>\n",
       "    <tr style=\"text-align: right;\">\n",
       "      <th></th>\n",
       "      <th>traffic_2018</th>\n",
       "      <th>traffic_prop_2018</th>\n",
       "    </tr>\n",
       "  </thead>\n",
       "  <tbody>\n",
       "    <tr>\n",
       "      <th>count</th>\n",
       "      <td>1.392000e+03</td>\n",
       "      <td>1392.000000</td>\n",
       "    </tr>\n",
       "    <tr>\n",
       "      <th>mean</th>\n",
       "      <td>4.926908e+04</td>\n",
       "      <td>0.000718</td>\n",
       "    </tr>\n",
       "    <tr>\n",
       "      <th>std</th>\n",
       "      <td>2.575981e+05</td>\n",
       "      <td>0.003756</td>\n",
       "    </tr>\n",
       "    <tr>\n",
       "      <th>min</th>\n",
       "      <td>0.000000e+00</td>\n",
       "      <td>0.000000</td>\n",
       "    </tr>\n",
       "    <tr>\n",
       "      <th>25%</th>\n",
       "      <td>2.103750e+03</td>\n",
       "      <td>0.000031</td>\n",
       "    </tr>\n",
       "    <tr>\n",
       "      <th>50%</th>\n",
       "      <td>9.043500e+03</td>\n",
       "      <td>0.000132</td>\n",
       "    </tr>\n",
       "    <tr>\n",
       "      <th>75%</th>\n",
       "      <td>2.542950e+04</td>\n",
       "      <td>0.000371</td>\n",
       "    </tr>\n",
       "    <tr>\n",
       "      <th>max</th>\n",
       "      <td>5.124685e+06</td>\n",
       "      <td>0.074723</td>\n",
       "    </tr>\n",
       "  </tbody>\n",
       "</table>\n",
       "</div>"
      ],
      "text/plain": [
       "       traffic_2018  traffic_prop_2018\n",
       "count  1.392000e+03        1392.000000\n",
       "mean   4.926908e+04           0.000718\n",
       "std    2.575981e+05           0.003756\n",
       "min    0.000000e+00           0.000000\n",
       "25%    2.103750e+03           0.000031\n",
       "50%    9.043500e+03           0.000132\n",
       "75%    2.542950e+04           0.000371\n",
       "max    5.124685e+06           0.074723"
      ]
     },
     "execution_count": 16,
     "metadata": {},
     "output_type": "execute_result"
    }
   ],
   "source": [
    "station_by_traffic.describe()"
   ]
  },
  {
   "cell_type": "code",
   "execution_count": 17,
   "metadata": {
    "scrolled": true
   },
   "outputs": [
    {
     "data": {
      "text/html": [
       "<div>\n",
       "<style scoped>\n",
       "    .dataframe tbody tr th:only-of-type {\n",
       "        vertical-align: middle;\n",
       "    }\n",
       "\n",
       "    .dataframe tbody tr th {\n",
       "        vertical-align: top;\n",
       "    }\n",
       "\n",
       "    .dataframe thead th {\n",
       "        text-align: right;\n",
       "    }\n",
       "</style>\n",
       "<table border=\"1\" class=\"dataframe\">\n",
       "  <thead>\n",
       "    <tr style=\"text-align: right;\">\n",
       "      <th></th>\n",
       "      <th>traffic_2018</th>\n",
       "      <th>traffic_prop_2018</th>\n",
       "    </tr>\n",
       "  </thead>\n",
       "  <tbody>\n",
       "    <tr>\n",
       "      <th>count</th>\n",
       "      <td>1.100000e+02</td>\n",
       "      <td>110.000000</td>\n",
       "    </tr>\n",
       "    <tr>\n",
       "      <th>mean</th>\n",
       "      <td>6.234778e+05</td>\n",
       "      <td>0.009091</td>\n",
       "    </tr>\n",
       "    <tr>\n",
       "      <th>std</th>\n",
       "      <td>1.000722e+06</td>\n",
       "      <td>0.014591</td>\n",
       "    </tr>\n",
       "    <tr>\n",
       "      <th>min</th>\n",
       "      <td>0.000000e+00</td>\n",
       "      <td>0.000000</td>\n",
       "    </tr>\n",
       "    <tr>\n",
       "      <th>25%</th>\n",
       "      <td>3.003025e+04</td>\n",
       "      <td>0.000438</td>\n",
       "    </tr>\n",
       "    <tr>\n",
       "      <th>50%</th>\n",
       "      <td>1.141545e+05</td>\n",
       "      <td>0.001664</td>\n",
       "    </tr>\n",
       "    <tr>\n",
       "      <th>75%</th>\n",
       "      <td>9.790812e+05</td>\n",
       "      <td>0.014276</td>\n",
       "    </tr>\n",
       "    <tr>\n",
       "      <th>max</th>\n",
       "      <td>5.468536e+06</td>\n",
       "      <td>0.079737</td>\n",
       "    </tr>\n",
       "  </tbody>\n",
       "</table>\n",
       "</div>"
      ],
      "text/plain": [
       "       traffic_2018  traffic_prop_2018\n",
       "count  1.100000e+02         110.000000\n",
       "mean   6.234778e+05           0.009091\n",
       "std    1.000722e+06           0.014591\n",
       "min    0.000000e+00           0.000000\n",
       "25%    3.003025e+04           0.000438\n",
       "50%    1.141545e+05           0.001664\n",
       "75%    9.790812e+05           0.014276\n",
       "max    5.468536e+06           0.079737"
      ]
     },
     "execution_count": 17,
     "metadata": {},
     "output_type": "execute_result"
    }
   ],
   "source": [
    "railway_by_traffic.describe()"
   ]
  },
  {
   "cell_type": "markdown",
   "metadata": {},
   "source": [
    "## Visualize the trend for ALL railway traffic in Japan over time."
   ]
  },
  {
   "cell_type": "code",
   "execution_count": 18,
   "metadata": {},
   "outputs": [
    {
     "data": {
      "image/png": "[encoded data removed]",
      "text/plain": [
       "<Figure size 720x360 with 1 Axes>"
      ]
     },
     "metadata": {},
     "output_type": "display_data"
    }
   ],
   "source": [
    "years = [2013, 2014, 2015, 2016, 2017, 2018]\n",
    "s = df.filter(regex='traffic_201[345678]$', axis=1).sum()\n",
    "fig, ax = plt.subplots(figsize=(10, 5))\n",
    "plt.xlabel('Year')\n",
    "plt.ylabel('Number of Passengers')\n",
    "plt.plot(years, s, 'bo')\n",
    "plt.plot(years, np.poly1d(np.polyfit(years, s, 1))(years), linestyle=':')\n",
    "save_fig('all_trend.png')"
   ]
  }
 ],
 "metadata": {
  "kernelspec": {
   "display_name": "Python 3",
   "language": "python",
   "name": "python3"
  },
  "language_info": {
   "codemirror_mode": {
    "name": "ipython",
    "version": 3
   },
   "file_extension": ".py",
   "mimetype": "text/x-python",
   "name": "python",
   "nbconvert_exporter": "python",
   "pygments_lexer": "ipython3",
   "version": "3.7.5"
  }
 },
 "nbformat": 4,
 "nbformat_minor": 4
}
